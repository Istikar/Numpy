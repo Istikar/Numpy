{
 "cells": [
  {
   "cell_type": "markdown",
   "id": "2f32fe38",
   "metadata": {},
   "source": [
    "# NUMPY\n",
    "1.Numpy is a general purpose array -processing package or libraries.\n",
    "2.It provides a high -performance ,multidimensional array object,and tools for working with these array.\n",
    "3.It is the fundamental package for scientific computing with python."
   ]
  },
  {
   "cell_type": "code",
   "execution_count": 1,
   "id": "cfaac2e9",
   "metadata": {},
   "outputs": [],
   "source": [
    "# we have to add numpy module capabilities to python code.\n",
    "#This a syntax to add a external libraries to python code .\n",
    "# In short we have to import  numpy libraries its ALIAS(short name or nick name ) is denoted by np.\n",
    "import numpy as np \n",
    "\n",
    "# first run this cell before going to next cell"
   ]
  },
  {
   "cell_type": "code",
   "execution_count": 9,
   "id": "da27ec33",
   "metadata": {},
   "outputs": [
    {
     "data": {
      "text/plain": [
       "array([1, 2, 3, 4, 5])"
      ]
     },
     "execution_count": 9,
     "metadata": {},
     "output_type": "execute_result"
    }
   ],
   "source": [
    "# Creating numpy array as we aleary know that[square bracket] it meas list are created\n",
    "arr1=np.array([1,2,3,4,5])\n",
    "arr1\n",
    "# Its look like vector in 1d "
   ]
  },
  {
   "cell_type": "code",
   "execution_count": 10,
   "id": "46aaf183",
   "metadata": {},
   "outputs": [
    {
     "data": {
      "text/plain": [
       "numpy.ndarray"
      ]
     },
     "execution_count": 10,
     "metadata": {},
     "output_type": "execute_result"
    }
   ],
   "source": [
    "# Checking which type of function \n",
    "type(arr1)"
   ]
  },
  {
   "cell_type": "code",
   "execution_count": 12,
   "id": "268dd52e",
   "metadata": {},
   "outputs": [
    {
     "data": {
      "text/plain": [
       "array([[1, 2, 3],\n",
       "       [4, 5, 6]])"
      ]
     },
     "execution_count": 12,
     "metadata": {},
     "output_type": "execute_result"
    }
   ],
   "source": [
    "# Creating 2D array \n",
    "arr2=np.array([[1,2,3],[4,5,6]])# Two [create] more than 1 list are creating so we have to increase []\n",
    "arr2\n",
    "# see here output look like metrics "
   ]
  },
  {
   "cell_type": "code",
   "execution_count": 17,
   "id": "6f08e4dd",
   "metadata": {},
   "outputs": [
    {
     "data": {
      "text/plain": [
       "array([[0., 0., 0.],\n",
       "       [0., 0., 0.]])"
      ]
     },
     "execution_count": 17,
     "metadata": {},
     "output_type": "execute_result"
    }
   ],
   "source": [
    "# np.zeros creating output in such a manner which gives all output 0\n",
    "# when we give a shape in tuples ,then it create ndarray (type of array) in that shape with all the element are zero\n",
    "arr3=np.zeros((2,3))\n",
    "arr3\n"
   ]
  },
  {
   "cell_type": "code",
   "execution_count": 19,
   "id": "9b6d90e6",
   "metadata": {},
   "outputs": [
    {
     "data": {
      "text/plain": [
       "array([[1., 1., 1., 1.],\n",
       "       [1., 1., 1., 1.],\n",
       "       [1., 1., 1., 1.],\n",
       "       [1., 1., 1., 1.]])"
      ]
     },
     "execution_count": 19,
     "metadata": {},
     "output_type": "execute_result"
    }
   ],
   "source": [
    "# np.ones creating output in such a manner which gives all output 1\n",
    "# when we give a shape in tuples ,then it create ndarray (type of array) in that shape with all the element are 1\n",
    "\n",
    "arr4=np.ones ((4,4,))\n",
    "arr4"
   ]
  },
  {
   "cell_type": "code",
   "execution_count": 20,
   "id": "ce5aaba9",
   "metadata": {},
   "outputs": [
    {
     "data": {
      "text/plain": [
       "array([[1., 0., 0., 0., 0., 0.],\n",
       "       [0., 1., 0., 0., 0., 0.],\n",
       "       [0., 0., 1., 0., 0., 0.],\n",
       "       [0., 0., 0., 1., 0., 0.],\n",
       "       [0., 0., 0., 0., 1., 0.],\n",
       "       [0., 0., 0., 0., 0., 1.]])"
      ]
     },
     "execution_count": 20,
     "metadata": {},
     "output_type": "execute_result"
    }
   ],
   "source": [
    "# np.identity create a metrics where the given input become diagonally output.\n",
    "arr5=np.identity(6)\n",
    "arr5"
   ]
  },
  {
   "cell_type": "code",
   "execution_count": 21,
   "id": "fa19dff9",
   "metadata": {},
   "outputs": [
    {
     "data": {
      "text/plain": [
       "array([0, 1, 2, 3, 4, 5, 6, 7, 8, 9])"
      ]
     },
     "execution_count": 21,
     "metadata": {},
     "output_type": "execute_result"
    }
   ],
   "source": [
    "# np.arange generates a range from 0-9\n",
    "arr6=np.arange(10)\n",
    "arr6\n"
   ]
  },
  {
   "cell_type": "code",
   "execution_count": 22,
   "id": "f38eaf6b",
   "metadata": {},
   "outputs": [
    {
     "data": {
      "text/plain": [
       "array([ 4,  8, 12, 16, 20, 24, 28, 32, 36])"
      ]
     },
     "execution_count": 22,
     "metadata": {},
     "output_type": "execute_result"
    }
   ],
   "source": [
    "# when we have to do arange in particular manner like(4,40) and want output with space or gap \n",
    "# we have mention a space how much we want (4,40,space number) \n",
    "arr7=np.arange(4,40,4)\n",
    "arr7"
   ]
  },
  {
   "cell_type": "code",
   "execution_count": 23,
   "id": "2999c27e",
   "metadata": {},
   "outputs": [
    {
     "data": {
      "text/plain": [
       "array([10.        , 11.11111111, 12.22222222, 13.33333333, 14.44444444,\n",
       "       15.55555556, 16.66666667, 17.77777778, 18.88888889, 20.        ])"
      ]
     },
     "execution_count": 23,
     "metadata": {},
     "output_type": "execute_result"
    }
   ],
   "source": [
    "# np.linspace generates output in a equidistance point \n",
    "arr8=np.linspace(10,20,10)\n",
    "arr8"
   ]
  },
  {
   "cell_type": "code",
   "execution_count": 24,
   "id": "56c61a9c",
   "metadata": {},
   "outputs": [
    {
     "data": {
      "text/plain": [
       "array([10.        , 11.11111111, 12.22222222, 13.33333333, 14.44444444,\n",
       "       15.55555556, 16.66666667, 17.77777778, 18.88888889, 20.        ])"
      ]
     },
     "execution_count": 24,
     "metadata": {},
     "output_type": "execute_result"
    }
   ],
   "source": [
    "# Copy funtion is use for the copy any array  \n",
    "arr9=arr8.copy()\n",
    "arr9"
   ]
  },
  {
   "cell_type": "markdown",
   "id": "d941832d",
   "metadata": {},
   "source": [
    "# Properties and Attributes\n",
    "##### It dont need bracket"
   ]
  },
  {
   "cell_type": "code",
   "execution_count": 25,
   "id": "247ee058",
   "metadata": {},
   "outputs": [
    {
     "data": {
      "text/plain": [
       "(5,)"
      ]
     },
     "execution_count": 25,
     "metadata": {},
     "output_type": "execute_result"
    }
   ],
   "source": [
    "# shape attributes coontain of rows or column its give actuall rows ans columns output are in data\n",
    "arr1.shape "
   ]
  },
  {
   "cell_type": "code",
   "execution_count": 26,
   "id": "874e9e26",
   "metadata": {},
   "outputs": [
    {
     "data": {
      "text/plain": [
       "(2, 3)"
      ]
     },
     "execution_count": 26,
     "metadata": {},
     "output_type": "execute_result"
    }
   ],
   "source": [
    "arr2.shape # rows-2 and columns - 3"
   ]
  },
  {
   "cell_type": "code",
   "execution_count": 31,
   "id": "f56875be",
   "metadata": {},
   "outputs": [
    {
     "data": {
      "text/plain": [
       "array([[[1, 2],\n",
       "        [3, 4]],\n",
       "\n",
       "       [[5, 6],\n",
       "        [7, 8]]])"
      ]
     },
     "execution_count": 31,
     "metadata": {},
     "output_type": "execute_result"
    }
   ],
   "source": [
    "arr10=np.array([[[1,2],[3,4]],[[5,6],[7,8]]])\n",
    "arr10"
   ]
  },
  {
   "cell_type": "code",
   "execution_count": 32,
   "id": "f7940de4",
   "metadata": {},
   "outputs": [
    {
     "data": {
      "text/plain": [
       "(2, 2, 2)"
      ]
     },
     "execution_count": 32,
     "metadata": {},
     "output_type": "execute_result"
    }
   ],
   "source": [
    "arr10.shape# Its a 3 dimensional metrics"
   ]
  },
  {
   "cell_type": "code",
   "execution_count": 33,
   "id": "d51daa14",
   "metadata": {},
   "outputs": [
    {
     "data": {
      "text/plain": [
       "3"
      ]
     },
     "execution_count": 33,
     "metadata": {},
     "output_type": "execute_result"
    }
   ],
   "source": [
    "# to find the which dimension array\n",
    "arr10.ndim"
   ]
  },
  {
   "cell_type": "code",
   "execution_count": 34,
   "id": "5d93da37",
   "metadata": {},
   "outputs": [
    {
     "data": {
      "text/plain": [
       "8"
      ]
     },
     "execution_count": 34,
     "metadata": {},
     "output_type": "execute_result"
    }
   ],
   "source": [
    "# to check the size \n",
    "arr10.size"
   ]
  },
  {
   "cell_type": "code",
   "execution_count": 35,
   "id": "dca57d03",
   "metadata": {},
   "outputs": [
    {
     "data": {
      "text/plain": [
       "4"
      ]
     },
     "execution_count": 35,
     "metadata": {},
     "output_type": "execute_result"
    }
   ],
   "source": [
    "# To know the item size which are presnet in array\n",
    "arr10.itemsize"
   ]
  },
  {
   "cell_type": "code",
   "execution_count": 37,
   "id": "8bf31814",
   "metadata": {},
   "outputs": [
    {
     "data": {
      "text/plain": [
       "dtype('int32')"
      ]
     },
     "execution_count": 37,
     "metadata": {},
     "output_type": "execute_result"
    }
   ],
   "source": [
    "# to check the output type \n",
    "arr10.dtype"
   ]
  },
  {
   "cell_type": "code",
   "execution_count": 38,
   "id": "17313bb5",
   "metadata": {},
   "outputs": [
    {
     "data": {
      "text/plain": [
       "dtype('float64')"
      ]
     },
     "execution_count": 38,
     "metadata": {},
     "output_type": "execute_result"
    }
   ],
   "source": [
    "arr9.dtype"
   ]
  },
  {
   "cell_type": "code",
   "execution_count": 40,
   "id": "2105681e",
   "metadata": {},
   "outputs": [
    {
     "data": {
      "text/plain": [
       "array([10.        , 11.11111111, 12.22222222, 13.33333333, 14.44444444,\n",
       "       15.55555556, 16.66666667, 17.77777778, 18.88888889, 20.        ])"
      ]
     },
     "execution_count": 40,
     "metadata": {},
     "output_type": "execute_result"
    }
   ],
   "source": [
    "# astype attributes generates output in a such way that we want in o/p e.g  float ,int \n",
    "arr9.astype('float')"
   ]
  },
  {
   "cell_type": "markdown",
   "id": "b2bb09c6",
   "metadata": {},
   "source": [
    "# Numpy Operation   \n",
    "-Perform Mathematical Operation.\n",
    "-Two numpy are required"
   ]
  },
  {
   "cell_type": "code",
   "execution_count": 42,
   "id": "a6c9f661",
   "metadata": {},
   "outputs": [
    {
     "data": {
      "text/plain": [
       "array([-5, -5, -5, -5, -5])"
      ]
     },
     "execution_count": 42,
     "metadata": {},
     "output_type": "execute_result"
    }
   ],
   "source": [
    "# Creating two numpy array to perfirm mathematical opertion like add ,sub ,mul,div.\n",
    "# Mathematical language it called Scaler \n",
    "num1=np.array([1,2,3,4,5])\n",
    "num2=np.array([6,7,8,9,10])\n",
    "num1-num2  # Subraction"
   ]
  },
  {
   "cell_type": "code",
   "execution_count": 43,
   "id": "bd4a7605",
   "metadata": {},
   "outputs": [
    {
     "data": {
      "text/plain": [
       "array([ 7,  9, 11, 13, 15])"
      ]
     },
     "execution_count": 43,
     "metadata": {},
     "output_type": "execute_result"
    }
   ],
   "source": [
    "num1+num2 # addition"
   ]
  },
  {
   "cell_type": "code",
   "execution_count": 44,
   "id": "23394f44",
   "metadata": {},
   "outputs": [
    {
     "data": {
      "text/plain": [
       "array([ 6, 14, 24, 36, 50])"
      ]
     },
     "execution_count": 44,
     "metadata": {},
     "output_type": "execute_result"
    }
   ],
   "source": [
    "num1*num2 # multiplication (vector)"
   ]
  },
  {
   "cell_type": "code",
   "execution_count": 45,
   "id": "ad912dfa",
   "metadata": {},
   "outputs": [
    {
     "data": {
      "text/plain": [
       "array([6.        , 3.5       , 2.66666667, 2.25      , 2.        ])"
      ]
     },
     "execution_count": 45,
     "metadata": {},
     "output_type": "execute_result"
    }
   ],
   "source": [
    "num2/num1 # division"
   ]
  },
  {
   "cell_type": "code",
   "execution_count": 46,
   "id": "aafcf270",
   "metadata": {},
   "outputs": [
    {
     "data": {
      "text/plain": [
       "array([False, False, False,  True,  True])"
      ]
     },
     "execution_count": 46,
     "metadata": {},
     "output_type": "execute_result"
    }
   ],
   "source": [
    "# to check where my input are greater than 3 .\n",
    "# it give output in boolean type\n",
    "num1>3"
   ]
  },
  {
   "cell_type": "code",
   "execution_count": 52,
   "id": "d2ce42f0",
   "metadata": {},
   "outputs": [
    {
     "data": {
      "text/plain": [
       "array([[ 0,  1,  2,  3],\n",
       "       [ 4,  5,  6,  7],\n",
       "       [ 8,  9, 10, 11],\n",
       "       [12, 13, 14, 15],\n",
       "       [16, 17, 18, 19],\n",
       "       [20, 21, 22, 23]])"
      ]
     },
     "execution_count": 52,
     "metadata": {},
     "output_type": "execute_result"
    }
   ],
   "source": [
    "# Reshape arrange out output in such way tha we want to manage\n",
    "num3=np.arange(24).reshape(6,4)\n",
    "num3"
   ]
  },
  {
   "cell_type": "code",
   "execution_count": 53,
   "id": "8fc5b044",
   "metadata": {},
   "outputs": [
    {
     "data": {
      "text/plain": [
       "array([[ 0,  1,  2,  3,  4,  5],\n",
       "       [ 6,  7,  8,  9, 10, 11],\n",
       "       [12, 13, 14, 15, 16, 17],\n",
       "       [18, 19, 20, 21, 22, 23],\n",
       "       [24, 25, 26, 27, 28, 29],\n",
       "       [30, 31, 32, 33, 34, 35],\n",
       "       [36, 37, 38, 39, 40, 41],\n",
       "       [42, 43, 44, 45, 46, 47],\n",
       "       [48, 49, 50, 51, 52, 53],\n",
       "       [54, 55, 56, 57, 58, 59],\n",
       "       [60, 61, 62, 63, 64, 65],\n",
       "       [66, 67, 68, 69, 70, 71]])"
      ]
     },
     "execution_count": 53,
     "metadata": {},
     "output_type": "execute_result"
    }
   ],
   "source": [
    "\n",
    "num4=np.arange(72).reshape(12,6)\n",
    "num4"
   ]
  },
  {
   "cell_type": "markdown",
   "id": "e8d74fa6",
   "metadata": {},
   "source": [
    "# Indexing,Slicing & Iteration"
   ]
  },
  {
   "cell_type": "code",
   "execution_count": 54,
   "id": "7f3fd015",
   "metadata": {},
   "outputs": [
    {
     "data": {
      "text/plain": [
       "array([ 0,  1,  2,  3,  4,  5,  6,  7,  8,  9, 10, 11, 12, 13, 14, 15, 16,\n",
       "       17, 18, 19, 20, 21, 22, 23])"
      ]
     },
     "execution_count": 54,
     "metadata": {},
     "output_type": "execute_result"
    }
   ],
   "source": [
    "num5=np.arange(24)\n",
    "num5"
   ]
  },
  {
   "cell_type": "code",
   "execution_count": 56,
   "id": "96fee44e",
   "metadata": {},
   "outputs": [
    {
     "data": {
      "text/plain": [
       "array([12, 13, 14, 15, 16, 17])"
      ]
     },
     "execution_count": 56,
     "metadata": {},
     "output_type": "execute_result"
    }
   ],
   "source": [
    "# Slicing the num4 output 2 row\n",
    "num4[2]"
   ]
  },
  {
   "cell_type": "code",
   "execution_count": 57,
   "id": "92f88bf2",
   "metadata": {},
   "outputs": [
    {
     "data": {
      "text/plain": [
       "array([ 3,  9, 15, 21, 27, 33, 39, 45, 51, 57, 63, 69])"
      ]
     },
     "execution_count": 57,
     "metadata": {},
     "output_type": "execute_result"
    }
   ],
   "source": [
    "num4[:,3]# Slicing extract for 3 column  "
   ]
  },
  {
   "cell_type": "code",
   "execution_count": 61,
   "id": "fd681142",
   "metadata": {},
   "outputs": [
    {
     "data": {
      "text/plain": [
       "array([[13, 14],\n",
       "       [19, 20]])"
      ]
     },
     "execution_count": 61,
     "metadata": {},
     "output_type": "execute_result"
    }
   ],
   "source": [
    "num5=num4[2:4,1:3] # [rows,column] to get speicfic output\n",
    "num5"
   ]
  },
  {
   "cell_type": "code",
   "execution_count": 62,
   "id": "5f8d3dbc",
   "metadata": {},
   "outputs": [
    {
     "name": "stdout",
     "output_type": "stream",
     "text": [
      "[13 14]\n",
      "[19 20]\n"
     ]
    }
   ],
   "source": [
    "for i in num5:\n",
    "    print(i)"
   ]
  },
  {
   "cell_type": "code",
   "execution_count": 64,
   "id": "331f4c4b",
   "metadata": {},
   "outputs": [
    {
     "name": "stdout",
     "output_type": "stream",
     "text": [
      "13\n",
      "14\n",
      "19\n",
      "20\n"
     ]
    }
   ],
   "source": [
    "for i in np.nditer(num5):\n",
    "    print(i)"
   ]
  },
  {
   "cell_type": "markdown",
   "id": "e88beadc",
   "metadata": {},
   "source": [
    "# Indexing Using Boolean Arrays\n",
    "Random Arrays -The RANDARRAY function returns an array of random numbers. You can specify the number of rows and columns to fill, minimum and maximum values, and whether to return whole numbers or decimal values."
   ]
  },
  {
   "cell_type": "code",
   "execution_count": 69,
   "id": "8c45e951",
   "metadata": {},
   "outputs": [
    {
     "data": {
      "text/plain": [
       "array([[63, 55, 89, 72, 59],\n",
       "       [ 9, 68, 73, 63, 93],\n",
       "       [43, 51, 90, 82, 80],\n",
       "       [30, 49, 83, 29, 94]])"
      ]
     },
     "execution_count": 69,
     "metadata": {},
     "output_type": "execute_result"
    }
   ],
   "source": [
    "arr14=np.random.randint(low=1,high=100,size=20).reshape(4,5)\n",
    "arr14"
   ]
  },
  {
   "cell_type": "code",
   "execution_count": 71,
   "id": "ed8fd749",
   "metadata": {},
   "outputs": [
    {
     "data": {
      "text/plain": [
       "array([43, 51, 90, 82, 80])"
      ]
     },
     "execution_count": 71,
     "metadata": {},
     "output_type": "execute_result"
    }
   ],
   "source": [
    "arr14[2]# calling 3 row"
   ]
  },
  {
   "cell_type": "code",
   "execution_count": 72,
   "id": "fa25d8aa",
   "metadata": {},
   "outputs": [
    {
     "data": {
      "text/plain": [
       "array([[ True,  True,  True,  True,  True],\n",
       "       [False,  True,  True,  True,  True],\n",
       "       [False,  True,  True,  True,  True],\n",
       "       [False, False,  True, False,  True]])"
      ]
     },
     "execution_count": 72,
     "metadata": {},
     "output_type": "execute_result"
    }
   ],
   "source": [
    "arr14>50 # its give output in boolean form"
   ]
  },
  {
   "cell_type": "code",
   "execution_count": 73,
   "id": "4abef96b",
   "metadata": {},
   "outputs": [
    {
     "data": {
      "text/plain": [
       "array([63, 55, 89, 72, 59, 68, 73, 63, 93, 51, 90, 82, 80, 83, 94])"
      ]
     },
     "execution_count": 73,
     "metadata": {},
     "output_type": "execute_result"
    }
   ],
   "source": [
    "# it give o/p in integar form .its called indexing using boolean form\n",
    "arr14[arr14>50]"
   ]
  },
  {
   "cell_type": "code",
   "execution_count": 76,
   "id": "5941f118",
   "metadata": {},
   "outputs": [
    {
     "data": {
      "text/plain": [
       "array([63, 55, 89, 59, 73, 63, 93, 51, 83])"
      ]
     },
     "execution_count": 76,
     "metadata": {},
     "output_type": "execute_result"
    }
   ],
   "source": [
    "# &- define both condition \n",
    "# (arr14%2!=0)- modules and whole define is odd number  [!-means not equal to ]\n",
    "arr14[(arr14>50)&(arr14%2!=0)]"
   ]
  },
  {
   "cell_type": "code",
   "execution_count": 89,
   "id": "57bdd74e",
   "metadata": {
    "scrolled": true
   },
   "outputs": [
    {
     "data": {
      "text/plain": [
       "array([[0.52958507, 0.77294913, 0.48439158, 0.99745676],\n",
       "       [0.28794079, 0.45136562, 0.20480384, 0.70610557],\n",
       "       [0.38150698, 0.31980973, 0.24435509, 0.1136893 ],\n",
       "       [0.09452856, 0.824539  , 0.64040884, 0.34871514],\n",
       "       [0.28892142, 0.81658097, 0.11960198, 0.52013142]])"
      ]
     },
     "execution_count": 89,
     "metadata": {},
     "output_type": "execute_result"
    }
   ],
   "source": [
    "randmatrix = np.random.rand(5,4)\n",
    "randmatrix"
   ]
  },
  {
   "cell_type": "code",
   "execution_count": 90,
   "id": "4baed0cc",
   "metadata": {
    "scrolled": true
   },
   "outputs": [
    {
     "data": {
      "text/plain": [
       "array([[0.5, 0.8, 0.5, 1. ],\n",
       "       [0.3, 0.5, 0.2, 0.7],\n",
       "       [0.4, 0.3, 0.2, 0.1],\n",
       "       [0.1, 0.8, 0.6, 0.3],\n",
       "       [0.3, 0.8, 0.1, 0.5]])"
      ]
     },
     "execution_count": 90,
     "metadata": {},
     "output_type": "execute_result"
    }
   ],
   "source": [
    "#limit to 3 decimal palces\n",
    "np.set_printoptions(precision = 1)# Precision will reduce the number of decimals \n",
    "randmatrix"
   ]
  },
  {
   "cell_type": "markdown",
   "id": "60c7c3dc",
   "metadata": {},
   "source": [
    "# How to replace a value over a praticular threshold to a constant\n"
   ]
  },
  {
   "cell_type": "code",
   "execution_count": 91,
   "id": "60d21a70",
   "metadata": {},
   "outputs": [
    {
     "data": {
      "text/plain": [
       "array([ 7, 47, 35, 31, 13,  1, 21, 22, 31, 19, 33, 30, 18, 30, 45, 45, 23,\n",
       "        7, 38,  8])"
      ]
     },
     "execution_count": 91,
     "metadata": {},
     "output_type": "execute_result"
    }
   ],
   "source": [
    "arr15 = np.random.randint(0,50,20)\n",
    "arr15"
   ]
  },
  {
   "cell_type": "code",
   "execution_count": 92,
   "id": "1fbbf532",
   "metadata": {},
   "outputs": [
    {
     "data": {
      "text/plain": [
       "array([10, 10, 10, 10, 10])"
      ]
     },
     "execution_count": 92,
     "metadata": {},
     "output_type": "execute_result"
    }
   ],
   "source": [
    "#Lower Threshold = 10\n",
    "# Upper Threshold = 40\n",
    "arr1 = np.clip(arr1, a_min=10, a_max=40)\n",
    "arr1\n",
    "\n",
    "# Lower threshold and upper threshold will derive values below the perameter"
   ]
  },
  {
   "cell_type": "markdown",
   "id": "eedeec34",
   "metadata": {},
   "source": [
    "# Plotting Graphs Using Numpy"
   ]
  },
  {
   "cell_type": "code",
   "execution_count": 77,
   "id": "1c92ab77",
   "metadata": {},
   "outputs": [],
   "source": [
    "\n",
    "#np.linspace generates output in a equidistance point\n",
    "\n",
    "x=np.linspace(-40,40,100)"
   ]
  },
  {
   "cell_type": "code",
   "execution_count": 78,
   "id": "956ab0cf",
   "metadata": {},
   "outputs": [
    {
     "data": {
      "text/plain": [
       "array([-40.        , -39.19191919, -38.38383838, -37.57575758,\n",
       "       -36.76767677, -35.95959596, -35.15151515, -34.34343434,\n",
       "       -33.53535354, -32.72727273, -31.91919192, -31.11111111,\n",
       "       -30.3030303 , -29.49494949, -28.68686869, -27.87878788,\n",
       "       -27.07070707, -26.26262626, -25.45454545, -24.64646465,\n",
       "       -23.83838384, -23.03030303, -22.22222222, -21.41414141,\n",
       "       -20.60606061, -19.7979798 , -18.98989899, -18.18181818,\n",
       "       -17.37373737, -16.56565657, -15.75757576, -14.94949495,\n",
       "       -14.14141414, -13.33333333, -12.52525253, -11.71717172,\n",
       "       -10.90909091, -10.1010101 ,  -9.29292929,  -8.48484848,\n",
       "        -7.67676768,  -6.86868687,  -6.06060606,  -5.25252525,\n",
       "        -4.44444444,  -3.63636364,  -2.82828283,  -2.02020202,\n",
       "        -1.21212121,  -0.4040404 ,   0.4040404 ,   1.21212121,\n",
       "         2.02020202,   2.82828283,   3.63636364,   4.44444444,\n",
       "         5.25252525,   6.06060606,   6.86868687,   7.67676768,\n",
       "         8.48484848,   9.29292929,  10.1010101 ,  10.90909091,\n",
       "        11.71717172,  12.52525253,  13.33333333,  14.14141414,\n",
       "        14.94949495,  15.75757576,  16.56565657,  17.37373737,\n",
       "        18.18181818,  18.98989899,  19.7979798 ,  20.60606061,\n",
       "        21.41414141,  22.22222222,  23.03030303,  23.83838384,\n",
       "        24.64646465,  25.45454545,  26.26262626,  27.07070707,\n",
       "        27.87878788,  28.68686869,  29.49494949,  30.3030303 ,\n",
       "        31.11111111,  31.91919192,  32.72727273,  33.53535354,\n",
       "        34.34343434,  35.15151515,  35.95959596,  36.76767677,\n",
       "        37.57575758,  38.38383838,  39.19191919,  40.        ])"
      ]
     },
     "execution_count": 78,
     "metadata": {},
     "output_type": "execute_result"
    }
   ],
   "source": [
    "x"
   ]
  },
  {
   "cell_type": "code",
   "execution_count": 79,
   "id": "107ccc6b",
   "metadata": {},
   "outputs": [],
   "source": [
    "# np.sin generates the sin function which give  sin output of given output\n",
    "y=np.sin(x)"
   ]
  },
  {
   "cell_type": "code",
   "execution_count": 80,
   "id": "d40323a8",
   "metadata": {},
   "outputs": [
    {
     "data": {
      "text/plain": [
       "array([-0.74511316, -0.9969604 , -0.63246122,  0.12304167,  0.80247705,\n",
       "        0.98580059,  0.55967698, -0.21245326, -0.85323945, -0.96653119,\n",
       "       -0.48228862,  0.30011711,  0.89698277,  0.93931073,  0.40093277,\n",
       "       -0.38531209, -0.93334716, -0.90436313, -0.31627868,  0.46733734,\n",
       "        0.96203346,  0.86197589,  0.22902277, -0.54551809, -0.9828057 ,\n",
       "       -0.81249769, -0.13988282,  0.61921119,  0.995493  ,  0.75633557,\n",
       "        0.04959214, -0.68781042, -0.99999098, -0.69395153,  0.0411065 ,\n",
       "        0.75075145,  0.99626264,  0.62585878, -0.13146699, -0.8075165 ,\n",
       "       -0.98433866, -0.55261747,  0.22074597,  0.85763861,  0.96431712,\n",
       "        0.47483011, -0.30820902, -0.90070545, -0.93636273, -0.39313661,\n",
       "        0.39313661,  0.93636273,  0.90070545,  0.30820902, -0.47483011,\n",
       "       -0.96431712, -0.85763861, -0.22074597,  0.55261747,  0.98433866,\n",
       "        0.8075165 ,  0.13146699, -0.62585878, -0.99626264, -0.75075145,\n",
       "       -0.0411065 ,  0.69395153,  0.99999098,  0.68781042, -0.04959214,\n",
       "       -0.75633557, -0.995493  , -0.61921119,  0.13988282,  0.81249769,\n",
       "        0.9828057 ,  0.54551809, -0.22902277, -0.86197589, -0.96203346,\n",
       "       -0.46733734,  0.31627868,  0.90436313,  0.93334716,  0.38531209,\n",
       "       -0.40093277, -0.93931073, -0.89698277, -0.30011711,  0.48228862,\n",
       "        0.96653119,  0.85323945,  0.21245326, -0.55967698, -0.98580059,\n",
       "       -0.80247705, -0.12304167,  0.63246122,  0.9969604 ,  0.74511316])"
      ]
     },
     "execution_count": 80,
     "metadata": {},
     "output_type": "execute_result"
    }
   ],
   "source": [
    "y"
   ]
  },
  {
   "cell_type": "markdown",
   "id": "99cf13a5",
   "metadata": {},
   "source": [
    "## ploting a graph we have to load matplotlib.pyplot as plt"
   ]
  },
  {
   "cell_type": "code",
   "execution_count": 82,
   "id": "6b8223dd",
   "metadata": {},
   "outputs": [],
   "source": [
    "import matplotlib.pyplot as plt \n",
    "%matplotlib inline "
   ]
  },
  {
   "cell_type": "code",
   "execution_count": 83,
   "id": "c3952ca6",
   "metadata": {},
   "outputs": [
    {
     "data": {
      "text/plain": [
       "[<matplotlib.lines.Line2D at 0x1cbe4f3e220>]"
      ]
     },
     "execution_count": 83,
     "metadata": {},
     "output_type": "execute_result"
    },
    {
     "data": {
      "image/png": "[encoded data removed]",
      "text/plain": [
       "<Figure size 432x288 with 1 Axes>"
      ]
     },
     "metadata": {
      "needs_background": "light"
     },
     "output_type": "display_data"
    }
   ],
   "source": [
    "plt.plot(x,y)"
   ]
  },
  {
   "cell_type": "code",
   "execution_count": 84,
   "id": "923c6c58",
   "metadata": {},
   "outputs": [
    {
     "data": {
      "text/plain": [
       "[<matplotlib.lines.Line2D at 0x1cbe56dc700>]"
      ]
     },
     "execution_count": 84,
     "metadata": {},
     "output_type": "execute_result"
    },
    {
     "data": {
      "image/png": "[encoded data removed]",
      "text/plain": [
       "<Figure size 432x288 with 1 Axes>"
      ]
     },
     "metadata": {
      "needs_background": "light"
     },
     "output_type": "display_data"
    }
   ],
   "source": [
    "y=x*x+2*x+6 # Coordatic equation\n",
    "plt.plot(x,y)\n",
    "# output seems like parabola"
   ]
  },
  {
   "cell_type": "code",
   "execution_count": 88,
   "id": "216a7bdf",
   "metadata": {},
   "outputs": [
    {
     "data": {
      "image/png": "[encoded data removed]",
      "text/plain": [
       "<Figure size 720x576 with 1 Axes>"
      ]
     },
     "metadata": {
      "needs_background": "light"
     },
     "output_type": "display_data"
    }
   ],
   "source": [
    "# adding the labels \n",
    "\n",
    "years = range(2000,2005)\n",
    "stock_prices = [ 1000,2000,5000,8000,10000]\n",
    "Money = [3000,2000,5000,6000,7000]\n",
    "\n",
    "plt.figure(figsize=(10,8))\n",
    "plt.plot(years,stock_prices)\n",
    "plt.plot(years,Money)\n",
    "plt.xlabel('Years')\n",
    "plt.ylabel('Stocks')\n",
    "plt.show()"
   ]
  },
  {
   "cell_type": "code",
   "execution_count": null,
   "id": "05b4a02e",
   "metadata": {},
   "outputs": [],
   "source": []
  }
 ],
 "metadata": {
  "kernelspec": {
   "display_name": "Python 3 (ipykernel)",
   "language": "python",
   "name": "python3"
  },
  "language_info": {
   "codemirror_mode": {
    "name": "ipython",
    "version": 3
   },
   "file_extension": ".py",
   "mimetype": "text/x-python",
   "name": "python",
   "nbconvert_exporter": "python",
   "pygments_lexer": "ipython3",
   "version": "3.9.12"
  }
 },
 "nbformat": 4,
 "nbformat_minor": 5
}
